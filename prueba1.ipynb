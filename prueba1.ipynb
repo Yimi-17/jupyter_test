{
 "cells": [
  {
   "cell_type": "code",
   "execution_count": 10,
   "id": "c19b8261-6c61-472b-9077-b88d81d9c779",
   "metadata": {},
   "outputs": [],
   "source": [
    "import requests\n",
    "from selenium import webdriver"
   ]
  },
  {
   "cell_type": "code",
   "execution_count": 33,
   "id": "fdd86024-2d8b-4e97-9983-c96a052936e3",
   "metadata": {},
   "outputs": [
    {
     "data": {
      "text/plain": [
       "200"
      ]
     },
     "execution_count": 33,
     "metadata": {},
     "output_type": "execute_result"
    }
   ],
   "source": [
    "#url=\"https://upeu.edu.pe/\"\n",
    "url=\"https://upeu.icrmedu.com/B-Learning/Paginas/Login.aspx\"\n",
    "peticion=requests.get(url)\n",
    "peticion.status_code"
   ]
  },
  {
   "cell_type": "code",
   "execution_count": 34,
   "id": "5e740b73-62da-40f3-a5c8-137359a85e24",
   "metadata": {},
   "outputs": [],
   "source": [
    "driver=webdriver.Chrome()"
   ]
  },
  {
   "cell_type": "code",
   "execution_count": 35,
   "id": "d480a56a-0243-4f03-95b9-713f9002302e",
   "metadata": {},
   "outputs": [],
   "source": [
    "driver.get(url)"
   ]
  },
  {
   "cell_type": "code",
   "execution_count": 36,
   "id": "da4f4e8b-c432-4784-b0b6-e4fa2e6991ac",
   "metadata": {},
   "outputs": [],
   "source": [
    "usuario=driver.find_element('xpath','//input[@id=\"txtUser\"]')"
   ]
  },
  {
   "cell_type": "code",
   "execution_count": 37,
   "id": "d24f3be8-f84e-4cfc-8af8-df81e5d9dabe",
   "metadata": {
    "scrolled": true
   },
   "outputs": [],
   "source": [
    "usuario.send_keys(\"yimi.curo\")"
   ]
  },
  {
   "cell_type": "code",
   "execution_count": 40,
   "id": "e7972fe8-9874-40a1-83ef-0d2e363e73fe",
   "metadata": {},
   "outputs": [],
   "source": [
    "driver.find_element('xpath','//button[@id=\"btnNextStep\"]').click()"
   ]
  },
  {
   "cell_type": "code",
   "execution_count": 44,
   "id": "8f52749a-e452-4f2d-b679-ac5bd8bbfe60",
   "metadata": {},
   "outputs": [],
   "source": [
    "password=driver.find_element('xpath','//input[@id=\"txtPassword\"]')"
   ]
  },
  {
   "cell_type": "code",
   "execution_count": 45,
   "id": "d64e5c89-bee7-4a1e-9088-bd74a2a3f2e5",
   "metadata": {},
   "outputs": [],
   "source": [
    "password.send_keys(\"201920193\")"
   ]
  },
  {
   "cell_type": "code",
   "execution_count": 46,
   "id": "fa84631d-21e6-4e02-83ac-f325fd83b504",
   "metadata": {},
   "outputs": [],
   "source": [
    "driver.find_element('xpath','//button[@id=\"btnLoginStep\"]').click()"
   ]
  },
  {
   "cell_type": "code",
   "execution_count": null,
   "id": "fb34c3e3-4ef0-4f30-8855-3762df94dc61",
   "metadata": {},
   "outputs": [],
   "source": []
  }
 ],
 "metadata": {
  "kernelspec": {
   "display_name": "pruebaenv",
   "language": "python",
   "name": "pruebaenv"
  },
  "language_info": {
   "codemirror_mode": {
    "name": "ipython",
    "version": 3
   },
   "file_extension": ".py",
   "mimetype": "text/x-python",
   "name": "python",
   "nbconvert_exporter": "python",
   "pygments_lexer": "ipython3",
   "version": "3.11.3"
  }
 },
 "nbformat": 4,
 "nbformat_minor": 5
}
